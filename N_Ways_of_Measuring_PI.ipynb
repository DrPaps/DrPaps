{
  "cells": [
    {
      "cell_type": "markdown",
      "metadata": {
        "id": "view-in-github",
        "colab_type": "text"
      },
      "source": [
        "<a href=\"https://colab.research.google.com/github/DrPaps/DrPaps/blob/main/N_Ways_of_Measuring_PI.ipynb\" target=\"_parent\"><img src=\"https://colab.research.google.com/assets/colab-badge.svg\" alt=\"Open In Colab\"/></a>"
      ]
    },
    {
      "cell_type": "markdown",
      "metadata": {
        "id": "tHc4zRFBAfGX"
      },
      "source": [
        "# N ways to measure $\\pi$"
      ]
    },
    {
      "cell_type": "markdown",
      "metadata": {
        "id": "ORerwDGCAfGb"
      },
      "source": [
        "* **Author:**\n",
        "\n",
        "* **Date:**\n",
        "\n",
        "* **Time spent on this assignment:**"
      ]
    },
    {
      "cell_type": "markdown",
      "metadata": {
        "id": "bsyVcikFAfGc"
      },
      "source": [
        "Remember to execute this cell to load numpy and pylab."
      ]
    },
    {
      "cell_type": "code",
      "execution_count": 1,
      "metadata": {
        "code_folding": [
          4
        ],
        "id": "ffu5N4bFAfGd"
      },
      "outputs": [],
      "source": [
        "import numpy as np\n",
        "import matplotlib.pyplot as plt\n",
        "import math\n",
        "import random\n",
        "def resetMe(keepList=[]):\n",
        "    ll=%who_ls\n",
        "    keepList=keepList+['resetMe','np','plt','math','random']\n",
        "    for iiii in keepList:\n",
        "        if iiii in ll:\n",
        "            ll.remove(iiii)\n",
        "    for iiii in ll:\n",
        "        jjjj=\"^\"+iiii+\"$\"\n",
        "        %reset_selective -f {jjjj}\n",
        "    ll=%who_ls\n",
        "    plt.rcParams.update({\"font.size\": 14})\n",
        "    return\n",
        "import datetime;datetime.datetime.now()\n",
        "resetMe()"
      ]
    },
    {
      "cell_type": "markdown",
      "metadata": {
        "id": "Hl1kHVplAfGf"
      },
      "source": [
        "In this project we will consider three different ways of measuring $\\pi$.  "
      ]
    },
    {
      "cell_type": "markdown",
      "metadata": {
        "id": "RAqKiEUWAfGg"
      },
      "source": [
        "\n",
        "<div class=\"alert alert-info\">\n",
        "Confused about what exactly you need to do?  <br />\n",
        "    <b>Look for the owl emoji 🦉 for instructions</b> <br />\n",
        "</div>"
      ]
    },
    {
      "cell_type": "markdown",
      "metadata": {
        "id": "fl0xVH-dAfGu"
      },
      "source": [
        "## Exercise 1: Series"
      ]
    },
    {
      "cell_type": "markdown",
      "metadata": {
        "id": "yG5YR-8BAfGu"
      },
      "source": [
        "* **List of collaborators:**\n",
        "\n",
        "* **References you used in developing your code:**\n"
      ]
    },
    {
      "cell_type": "markdown",
      "metadata": {
        "id": "wFmKbw04AfGu"
      },
      "source": [
        "In this exercise we will compute the value of $\\pi$ using a series (a sum of bunch of terms). We will use different series which converge at different rates. "
      ]
    },
    {
      "cell_type": "markdown",
      "metadata": {
        "id": "rleQ_wSSAfGv"
      },
      "source": [
        "### a. $\\pi$ from $\\tan$ "
      ]
    },
    {
      "cell_type": "markdown",
      "metadata": {
        "id": "oM3vQfwHAfGv"
      },
      "source": [
        "Recall that we can generally find infinite series representations of transcendental functions like $\\sin(x)$. In particlar\n",
        "\n",
        "$$\\tan^{-1}(x) = \\sum_{n=0}^\\infty \\frac{(-1)^n}{2n+1} x^{2n+1} ; -1<x\\leq 1$$\n",
        "\n",
        "Since $\\tan^{-1}(1) = \\pi/4$, we can write the following (slowly converging) infinite series:\n",
        "\n",
        "$$\\frac{\\pi}{4} = \\sum_{n=0}^\\infty \\frac{(-1)^n}{2n+1} = 1 - \\frac{1}{3} + \\frac{1}{5} - \\frac{1}{7} + ...$$\n",
        "\n",
        "If we group adjacent terms in the series we can rewrite this as \n",
        "\n",
        "$$\n",
        "\\begin{align}\n",
        "\\frac{\\pi}{4} = \\sum_{n=0}^\\infty \\frac{(-1)^n}{2n+1} &= \\left(1-\\frac{1}{3}\\right) + \\left(\\frac{1}{5}-\\frac{1}{7}\\right) + \\left(\\frac{1}{9}-\\frac{1}{11}\\right) + ...\\\\\n",
        "&=\\frac{3-1}{3 \\cdot 1} + \\frac{7-5}{7 \\cdot 5} + \\frac{11-9}{11 \\cdot 9}+...\\\\\n",
        "&=\\frac{2}{3}+ \\frac{2}{35}+\\frac{2}{99} + ...\\\\\n",
        "&= \\boxed{2 \\cdot \\sum_{n=0}^\\infty \\left[ \\frac{1}{(4n+3)(4n+1)} \\right]}\n",
        "\\end{align}\n",
        "$$\n",
        "\n",
        "The value of $\\pi$ is $3.14159265358979323846264338327950288419716939937510582...$ though the precision with which your computer can calculate it is probably limited to fewer digits than this.\n",
        "\n",
        "🦉Please write a Python script that calculates an approximation to $\\pi$ using the arctan series **i.e. the boxed formula**, and compare its accuracy after the $n = 10$ term, 100 term, 10,000 term, and 1,000,000 term.\n",
        "\n",
        "There are two ways to approach this.  One of these is by writing a loop (use a conditional statement to print something after the appropriate terms): \n",
        "\n",
        "Start by initializing a few things, then executing a loop that calculates the nth term, with n running from 0 to 999,999, summing the terms as you go."
      ]
    },
    {
      "cell_type": "markdown",
      "metadata": {
        "id": "LANRpiiCAfGw"
      },
      "source": [
        "The other option is to write this in a line or two using list comprehensions. \n",
        "\n",
        "Let us start with a loop."
      ]
    },
    {
      "cell_type": "markdown",
      "metadata": {
        "id": "YhnS5EWqAfGw"
      },
      "source": [
        "<div class=\"alert alert-warning\">\n",
        "<b>Do not use the word <code>sum</code> as a variable!</b> <br />Notice how <code>sum</code> is green in a cell - this means it is a special keyword.<br /> \n",
        "</div>"
      ]
    },
    {
      "cell_type": "markdown",
      "metadata": {
        "id": "fqmQ9bx7AfGx"
      },
      "source": [
        "*Write your for loop computing the difference from $\\pi$ for a given term in the series below*\n",
        "\n",
        "<img src=\"https://courses.physics.illinois.edu/phys246/fa2022/img/AnsStart.svg\" width=200 align=left></img><br>\n"
      ]
    },
    {
      "cell_type": "code",
      "execution_count": 2,
      "metadata": {
        "colab": {
          "base_uri": "https://localhost:8080/"
        },
        "id": "DVHyicPYAfGx",
        "outputId": "89a90c0f-5b61-43d4-b7b4-6d7e5353364a"
      },
      "outputs": [
        {
          "output_type": "execute_result",
          "data": {
            "text/plain": [
              "3.141592153589902"
            ]
          },
          "metadata": {},
          "execution_count": 2
        }
      ],
      "source": [
        "# ANSWER ME\n",
        "answer = 0\n",
        "n = 1000000\n",
        "for i in range(0,n):\n",
        "  answer += 1/((4*i + 3)*(4*i + 1))\n",
        "real_answer = 8 * answer\n",
        "real_answer\n",
        "# Pi value returned for 10 terms is 3.091623806667838\n",
        "# Pi value returned for 100 terms is 3.1365926848388144\n",
        "# Pi value returned for 10000 terms is 3.1415426535898203\n",
        "# Pi value returned for 1000000 terms is 3.141592153589902"
      ]
    },
    {
      "cell_type": "markdown",
      "metadata": {
        "id": "9kel7WVQAfGx"
      },
      "source": [
        "<img src=\"https://courses.physics.illinois.edu/phys246/fa2022/img/AnsEnd.svg\" width=200 align=left></img><br>\n"
      ]
    },
    {
      "cell_type": "markdown",
      "metadata": {
        "id": "JfQ7MYyqAfGy"
      },
      "source": [
        "### b. List Comprehensions"
      ]
    },
    {
      "cell_type": "markdown",
      "metadata": {
        "id": "yEUI9ZXaAfGy"
      },
      "source": [
        "We'll now look deeper at the terms in the series above, in order to practice plotting and analyzing data.\n",
        "\n",
        "Recall that we can store items into a list. A very useful feature about a list is that it can be variable length!\n",
        "To initialize a new list we use `[]`, and can add to it by using the `append()` function"
      ]
    },
    {
      "cell_type": "code",
      "execution_count": 3,
      "metadata": {
        "colab": {
          "base_uri": "https://localhost:8080/"
        },
        "id": "ZshlUW60AfGy",
        "outputId": "58b61c35-ccff-4e70-94f8-6950c472270c"
      },
      "outputs": [
        {
          "output_type": "stream",
          "name": "stdout",
          "text": [
            "[10]\n",
            "myList is length 1\n"
          ]
        }
      ],
      "source": [
        "myList = []\n",
        "myList.append(10)\n",
        "print(myList)\n",
        "print(\"myList is length\",len(myList))"
      ]
    },
    {
      "cell_type": "markdown",
      "metadata": {
        "id": "QqwE8_uNAfGz"
      },
      "source": [
        "This is obviously most useful in a `for` loop, where we can append numbers to the list."
      ]
    },
    {
      "cell_type": "code",
      "execution_count": 4,
      "metadata": {
        "colab": {
          "base_uri": "https://localhost:8080/"
        },
        "id": "jR06d4b9AfGz",
        "outputId": "e4e9a91a-6a00-4018-8bc9-e0e7203c5c3d"
      },
      "outputs": [
        {
          "output_type": "stream",
          "name": "stdout",
          "text": [
            "[5, 6, 7, 8, 9]\n",
            "myList is length 5\n"
          ]
        }
      ],
      "source": [
        "myList = [] #don't forget to reset it!\n",
        "for i in range(0,5):\n",
        "    myList.append(i+5)\n",
        "print(myList)\n",
        "print(\"myList is length\",len(myList))"
      ]
    },
    {
      "cell_type": "markdown",
      "metadata": {
        "id": "22LcahadAfGz"
      },
      "source": [
        "We'll want to plot some lists in a moment. Plotting things in python uses the matplotlib package, imported as `plt`. There are two basic steps for plotting:\n",
        "* `plt.plot(x,y)`\n",
        "    * This tells matplotlib to plot the lists or arrays `x` and `y`. You can also add instructions on how it should look after x,y. If we wanted a dashed line we can use `plt.plot(x,y,'--')` or if we want square points we can use `plt.plot(x,y,'s')`\n",
        "* `plt.show()` \n",
        "    * This tells matplotlib you're done drawing/adding data and to render the image"
      ]
    },
    {
      "cell_type": "code",
      "execution_count": 5,
      "metadata": {
        "colab": {
          "base_uri": "https://localhost:8080/",
          "height": 307
        },
        "id": "c1tghKkeAfGz",
        "outputId": "cb00a15f-0d17-46f6-a446-7fabfcf8bdaa"
      },
      "outputs": [
        {
          "output_type": "display_data",
          "data": {
            "text/plain": [
              "<Figure size 432x288 with 1 Axes>"
            ],
            "image/png": "[encoded data removed]"
          },
          "metadata": {
            "needs_background": "light"
          }
        }
      ],
      "source": [
        "#if we add '--' it will be dashed, and if we add 's' there will be squares. What if we do both?\n",
        "plt.plot(range(0,5),myList)\n",
        "plt.xlabel(\"My x Label\")\n",
        "plt.ylabel(\"My y Label\")\n",
        "plt.title(\"Title of the coolest plot\")\n",
        "plt.show()"
      ]
    },
    {
      "cell_type": "markdown",
      "metadata": {
        "id": "5drrCFs8AfG0"
      },
      "source": [
        "🦉Now write code to make two lists, one of each term\n",
        "$$\n",
        "\\frac{1}{(4n+3)(4n+1)}\n",
        "$$\n",
        "in the $tan^{-1}$ series above (you can include the factor of 8 if you like), and another indexing which term it is (you may start numbering at 0 to make it easy). Do this for 100,000 terms.   \n",
        "You'll probably find that the terms in the series look pretty boring. That's because they get small really fast! To see them a little better we can adjust the y-axis to be scalled *logrithmically* rather than *linearly*, by calling `plt.yscale('log')`. (This will be explored later in the course!)"
      ]
    },
    {
      "cell_type": "markdown",
      "metadata": {
        "id": "DIQsgrhhAfG0"
      },
      "source": [
        "*Write your code (and generate your plot) below.*\n",
        "\n",
        "<img src=\"https://courses.physics.illinois.edu/phys246/fa2022/img/AnsStart.svg\" width=200 align=left></img><br>\n",
        "\n"
      ]
    },
    {
      "cell_type": "code",
      "execution_count": 6,
      "metadata": {
        "colab": {
          "base_uri": "https://localhost:8080/",
          "height": 287
        },
        "id": "ui8juuT5AfG0",
        "outputId": "08e2ac3b-0ad0-4ecd-bf22-17747ebb0b84"
      },
      "outputs": [
        {
          "output_type": "display_data",
          "data": {
            "text/plain": [
              "<Figure size 432x288 with 1 Axes>"
            ],
            "image/png": "[encoded data removed]"
          },
          "metadata": {
            "needs_background": "light"
          }
        }
      ],
      "source": [
        "#ANSWER ME\n",
        "listTerm = []\n",
        "listIndex = []\n",
        "n = 100000\n",
        "for i in range(0,n):\n",
        "  listIndex.append(i)\n",
        "  listTerm.append(8/((4*i + 3)*(4*i + 1)))\n",
        "plt.plot(listIndex,listTerm)\n",
        "plt.xlabel(\"Index\")\n",
        "plt.ylabel(\"Term from the series\")\n",
        "plt.yscale('log')\n",
        "plt.show()"
      ]
    },
    {
      "cell_type": "markdown",
      "metadata": {
        "id": "6DW91oaMAfG1"
      },
      "source": [
        "<img src=\"https://courses.physics.illinois.edu/phys246/fa2022/img/AnsEnd.svg\" width=200 align=left></img><br>"
      ]
    },
    {
      "cell_type": "markdown",
      "metadata": {
        "id": "CNcX6K5fAfG1"
      },
      "source": [
        "### c. $\\pi$ from Ramanujan"
      ]
    },
    {
      "cell_type": "markdown",
      "metadata": {
        "id": "pgxnG36cAfG1"
      },
      "source": [
        "A much more rapidly converging series was discovered by the brilliant Indian mathematician Srinivasa Ramanujan.  It is\n",
        "\n",
        "$$\\frac{1}{\\pi} = \\frac{2\\sqrt{2}}{9801} \\sum_{k=0}^\\infty \\frac{(4k)!(1103+26390k)}{(k!)^4396^{4k}}$$\n",
        "\n",
        "where $k!$ (\"k factorial\") is $1\\times 2\\times 3\\times ... \\times k$ and $(4k)!$ is $1\\times2\\times3\\times ... \\times 4k$\n",
        "\n",
        "🦉Write a Python script that calculates an approximation to $\\pi$ using the Ramanujan series, and comment on its accuracy after 1, 2, and 3 terms. (Recall that the value of $\\pi$ is 3.14159265358979323846264338327950288419716939937510582...)\n",
        "\n",
        "Note that there are even faster-converging formulas than this! One, mentioned in Wolfram MathWorld[<sup>1</sup>](#fn1), adds 50 digits of precision for each additional term.\n"
      ]
    },
    {
      "cell_type": "markdown",
      "metadata": {
        "id": "p6_hTEI5AfG1"
      },
      "source": [
        "*Please put your loop showing your approximation to $\\pi$ below.  To see how close you are to $\\pi$ one thing you can do is to measure `-np.log(np.abs(ans-np.pi))`.  This measures the difference from $\\pi$ and then converts this difference to a logarithm so large numbers are very close.*\n",
        "\n",
        "<img src=\"https://courses.physics.illinois.edu/phys246/fa2022/img/AnsStart.svg\" width=200 align=left></img><br>\n"
      ]
    },
    {
      "cell_type": "code",
      "execution_count": 7,
      "metadata": {
        "colab": {
          "base_uri": "https://localhost:8080/"
        },
        "id": "8eFKw_TPAfG1",
        "outputId": "b0def5d8-2b6d-4986-d7cb-d1250aaa9eb5"
      },
      "outputs": [
        {
          "output_type": "execute_result",
          "data": {
            "text/plain": [
              "34.657359027997266"
            ]
          },
          "metadata": {},
          "execution_count": 7
        }
      ],
      "source": [
        "# ANSWER ME\n",
        "summation = 0\n",
        "n = 2\n",
        "for i in range(0,n):\n",
        "  summation += (math.factorial(4*i) * (1103 + 26390*i)) / (math.factorial(i)**4 * 396**(4*i))\n",
        "pi_value = 1/ ((2 * math.sqrt(2) * summation) / 9801)\n",
        "difference = -np.log(np.abs(pi_value - np.pi))\n",
        "difference\n",
        "# The difference observed when using 1 term is 16.386975434097835\n",
        "# The difference observed when using 2 terms is 34.657359027997266\n",
        "# When using 3 terms, there is no apparent differnce since the compiler returns the error that division by zero is encountered during calculation."
      ]
    },
    {
      "cell_type": "markdown",
      "metadata": {
        "id": "2JWMCLCyAfG2"
      },
      "source": [
        "<img src=\"https://courses.physics.illinois.edu/phys246/fa2022/img/AnsEnd.svg\" width=200 align=left></img><br>\n"
      ]
    },
    {
      "cell_type": "markdown",
      "metadata": {
        "id": "eIiUJCmBAfG2"
      },
      "source": [
        "## Exercise 2: Archimedes"
      ]
    },
    {
      "cell_type": "markdown",
      "metadata": {
        "id": "xQwATKiJAfG2"
      },
      "source": [
        "* **List of collaborators:**\n",
        "\n",
        "* **References you used in developing your code:**"
      ]
    },
    {
      "cell_type": "markdown",
      "metadata": {
        "id": "7lavkV39AfG2"
      },
      "source": [
        "Archimedes was an ancient greek who lived in 287 BC ([wikipedia](https://en.wikipedia.org/wiki/Archimedes)).  He developed a way to approximate $\\pi$ by estimating the circumference of the circle $C$ of known radius $r$ by a series of polygons inscribed within the circle.  Once we know the circumference, $C=2\\pi r$ and therefore $\\pi = C/(2r)$.   \n",
        "\n",
        "**Note:** don't worry about using $\\pi$ in your code below!"
      ]
    },
    {
      "cell_type": "markdown",
      "metadata": {
        "id": "yAkclT18AfG3"
      },
      "source": [
        "### a. Drawing a circle"
      ]
    },
    {
      "cell_type": "markdown",
      "metadata": {
        "id": "Y2kJ7WMmAfG3"
      },
      "source": [
        "🦉Start by defining a function `DrawCircle()` which plots a circle (but don't call `plt.show()` at the end of it.)  You can then generate your circle by doing\n",
        "\n",
        "```\n",
        "DrawCircle()\n",
        "plt.axis('scaled') # this makes your circle look like a circle and not an oval\n",
        "plt.show()\n",
        "```\n",
        "\n",
        "Recall that the for a circle of radius $r$,\n",
        "\n",
        "$x=r\\cos\\theta \\hspace{2cm} y=r\\sin\\theta$\n",
        "\n",
        "where $0 \\leq \\theta \\leq 2\\pi$. Plot all points starting with $\\theta=0$ with increments of $d\\theta=0.0001$ until you get to $2\\pi$.   In this problem, we will work with a circle of radius $r=1$.  \n"
      ]
    },
    {
      "cell_type": "markdown",
      "metadata": {
        "id": "wiqenYLKAfG3"
      },
      "source": [
        "*Draw your circle below!*\n",
        "\n",
        "<img src=\"https://courses.physics.illinois.edu/phys246/fa2022/img/AnsStart.svg\" width=200 align=left></img><br>\n"
      ]
    },
    {
      "cell_type": "code",
      "execution_count": 8,
      "metadata": {
        "colab": {
          "base_uri": "https://localhost:8080/",
          "height": 269
        },
        "id": "gFxQnFmIAfG3",
        "outputId": "568b28f5-4906-4405-90f3-aaa6c1ac731d"
      },
      "outputs": [
        {
          "output_type": "display_data",
          "data": {
            "text/plain": [
              "<Figure size 432x288 with 1 Axes>"
            ],
            "image/png": "[encoded data removed]"
          },
          "metadata": {
            "needs_background": "light"
          }
        }
      ],
      "source": [
        "# ANSWER ME\n",
        "def DrawCircle():\n",
        "  listX = []\n",
        "  listY = []\n",
        "  i = 0\n",
        "  while i < 2*np.pi:\n",
        "    listX.append(np.cos(i))\n",
        "    listY.append(np.sin(i))\n",
        "    i += 0.0001\n",
        "  plt.plot(listX,listY)\n",
        "DrawCircle()\n",
        "plt.axis('scaled') \n",
        "plt.show()"
      ]
    },
    {
      "cell_type": "markdown",
      "metadata": {
        "id": "f07X5krTAfG4"
      },
      "source": [
        "<img src=\"https://courses.physics.illinois.edu/phys246/fa2022/img/AnsEnd.svg\" width=200 align=left></img><br>\n"
      ]
    },
    {
      "cell_type": "markdown",
      "metadata": {
        "id": "XWiPzXqfAfG4"
      },
      "source": [
        "### b. Drawing a polygon"
      ]
    },
    {
      "cell_type": "markdown",
      "metadata": {
        "id": "uCSf9DhWAfG4"
      },
      "source": [
        "🦉Now that you can draw a circle, the next step is to draw a polygon inside the circle.  Write a function `DrawPolygon(N)`. The points of a $N$-sided polygon should be at angles $2\\pi/N$.  You should add an extra point at the end so your polygon looks closed. \n",
        "\n",
        "Use your function to draw a 5-sided polygon (after drawing the circle):\n",
        "```\n",
        "DrawCircle()\n",
        "DrawPolygon(5)\n",
        "plt.show()\n",
        "```"
      ]
    },
    {
      "cell_type": "markdown",
      "metadata": {
        "id": "gy3JbEHeAfG4"
      },
      "source": [
        "*Write below your function to draw a $N$ sided polygon and then use it to draw a 5-sided polygon.  You can use* `dTheta = 2*np.pi/N` *in your function.*\n",
        "\n",
        "<img src=\"https://courses.physics.illinois.edu/phys246/fa2022/img/AnsStart.svg\" width=200 align=left></img><br>"
      ]
    },
    {
      "cell_type": "code",
      "execution_count": 9,
      "metadata": {
        "colab": {
          "base_uri": "https://localhost:8080/",
          "height": 269
        },
        "id": "1-h3k8jcAfG4",
        "outputId": "4bb386fe-6fdc-45d3-d077-72518f95226e"
      },
      "outputs": [
        {
          "output_type": "display_data",
          "data": {
            "text/plain": [
              "<Figure size 432x288 with 1 Axes>"
            ],
            "image/png": "[encoded data removed]"
          },
          "metadata": {
            "needs_background": "light"
          }
        }
      ],
      "source": [
        "# ANSWER ME\n",
        "def DrawPolygon(N):\n",
        "  listX = []\n",
        "  listY = []\n",
        "  dTheta = 2*np.pi/N\n",
        "  i = 0;\n",
        "  while i < 2*np.pi + dTheta:\n",
        "    listX.append(np.cos(i))\n",
        "    listY.append(np.sin(i))\n",
        "    i += dTheta\n",
        "  plt.plot(listX,listY)\n",
        "DrawCircle()\n",
        "DrawPolygon(5)\n",
        "plt.show()"
      ]
    },
    {
      "cell_type": "markdown",
      "metadata": {
        "id": "KZLYwBaAAfG5"
      },
      "source": [
        "<img src=\"https://courses.physics.illinois.edu/phys246/fa2022/img/AnsEnd.svg\" width=200 align=left></img><br>\n"
      ]
    },
    {
      "cell_type": "markdown",
      "metadata": {
        "id": "ALzJr0yIAfG5"
      },
      "source": [
        "### c. Python Fun - List Comprehensions "
      ]
    },
    {
      "cell_type": "markdown",
      "metadata": {
        "id": "GuByA4I8AfG6"
      },
      "source": [
        "A cool Python feature is list comprehensions. Instead of writing a `for` loop, if we're clever we can stuff everything into one line inside a list, and python will be able to fill out the list faster than doing an `append()`.  \n",
        "Check out the example below:"
      ]
    },
    {
      "cell_type": "code",
      "execution_count": 10,
      "metadata": {
        "id": "dtaMvlMmAfG6",
        "colab": {
          "base_uri": "https://localhost:8080/"
        },
        "outputId": "6bd1016a-c386-464b-dad9-7a5452f768ee"
      },
      "outputs": [
        {
          "output_type": "stream",
          "name": "stdout",
          "text": [
            "slowList= [-5, -4, -3, -2, -1]\n",
            "fastList= [-5, -4, -3, -2, -1]\n"
          ]
        }
      ],
      "source": [
        "slowList = []\n",
        "for i in range(0,5):\n",
        "    slowList.append(i-5)\n",
        "# now we rearrange the syntax, so what we want each element to be\n",
        "# is *first* and the for loop statement is after\n",
        "fastList = [i-5 for i in range(0,5)]\n",
        "print(\"slowList=\",slowList)\n",
        "print(\"fastList=\",fastList)"
      ]
    },
    {
      "cell_type": "markdown",
      "metadata": {
        "id": "GJDzIjn6AfG7"
      },
      "source": [
        "🦉Try rewriting your answer to **b.** to use list comprehensions, turning any `for` loops you had into one line. At the end of the day, you'll want a line that generates your `x` points and another that has your `y` points, for example. \n",
        "\n",
        "*Optional:* In addition, you could turn your perimeter code into one line, by making a list of distances and summing them all using `np.sum`. Don't worry about this for now, you'll get plenty of practice later!"
      ]
    },
    {
      "cell_type": "markdown",
      "metadata": {
        "id": "CXsKUzW9AfG7"
      },
      "source": [
        "<img src=\"https://courses.physics.illinois.edu/phys246/fa2022/img/AnsStart.svg\" width=200 align=left></img><br>"
      ]
    },
    {
      "cell_type": "code",
      "execution_count": 19,
      "metadata": {
        "id": "XR5FUaUHAfG7",
        "colab": {
          "base_uri": "https://localhost:8080/",
          "height": 286
        },
        "outputId": "988117b9-1357-4c76-e5ee-ad8eb4880a65"
      },
      "outputs": [
        {
          "output_type": "stream",
          "name": "stdout",
          "text": [
            "5.877852522924732\n"
          ]
        },
        {
          "output_type": "display_data",
          "data": {
            "text/plain": [
              "<Figure size 432x288 with 1 Axes>"
            ],
            "image/png": "[encoded data removed]"
          },
          "metadata": {
            "needs_background": "light"
          }
        }
      ],
      "source": [
        "# answer here!\n",
        "def DrawPolygon(N):\n",
        "  dTheta = 2*np.pi/N\n",
        "  listsides = [i*dTheta for i in range(0,N+1)]\n",
        "  listX = [np.cos(i) for i in listsides]\n",
        "  listY = [np.sin(i) for i in listsides]\n",
        "  plt.plot(listX,listY)\n",
        "  distance = []\n",
        "  for i in range(0,N):\n",
        "    distanceX = listX[i] - listX[i+1]\n",
        "    distanceY = listY[i] - listY[i+1]\n",
        "    distance.append((distanceX**2 + distanceY**2)**0.5)\n",
        "  perimeter = np.sum(distance)\n",
        "  print(perimeter)\n",
        "DrawCircle()\n",
        "DrawPolygon(5)\n",
        "plt.show()"
      ]
    },
    {
      "cell_type": "markdown",
      "metadata": {
        "id": "5k3AAEpPAfG8"
      },
      "source": [
        "<img src=\"https://courses.physics.illinois.edu/phys246/fa2022/img/AnsEnd.svg\" width=200 align=left></img><br>\n"
      ]
    },
    {
      "cell_type": "markdown",
      "metadata": {
        "id": "qQuXtm4IAfG8"
      },
      "source": [
        "🦉Modify your function above to return the perimeter of the polygon that you drew. Now make a plot of the estimate of $\\pi$ ($C/2$) from a $N$-sided polygon as a function of $3<N<100$.   \n",
        "\n",
        "How close is your answer to $\\pi$ for $N=100$?\n"
      ]
    },
    {
      "cell_type": "markdown",
      "metadata": {
        "id": "mfWEA8AOAfG8"
      },
      "source": [
        "*Have your function return the perimeter of your polygon which should be an approximation of $2\\pi$.  You can copy it from above or just change the above function (and call it down here).  Also include your code (and plot) that shows how far you are from $\\pi$.  You might want to use `plt.axhline(np.pi,linestyle='--')` to draw a line where $\\pi$ is on your plot.  Also include below how close you get for $N=100$.*\n",
        "\n",
        "<img src=\"https://courses.physics.illinois.edu/phys246/fa2022/img/AnsStart.svg\" width=200 align=left></img><br>"
      ]
    },
    {
      "cell_type": "code",
      "execution_count": 26,
      "metadata": {
        "id": "ancUh2hGAfG8",
        "colab": {
          "base_uri": "https://localhost:8080/",
          "height": 286
        },
        "outputId": "b1186f44-e1cb-4bfb-8ff6-dc4b737a48ac"
      },
      "outputs": [
        {
          "output_type": "execute_result",
          "data": {
            "text/plain": [
              "<function matplotlib.pyplot.show(*args, **kw)>"
            ]
          },
          "metadata": {},
          "execution_count": 26
        },
        {
          "output_type": "display_data",
          "data": {
            "text/plain": [
              "<Figure size 432x288 with 1 Axes>"
            ],
            "image/png": "[encoded data removed]"
          },
          "metadata": {
            "needs_background": "light"
          }
        }
      ],
      "source": [
        "# ANSWER HERE\n",
        "def DrawPolygon(N):\n",
        "  dTheta = 2*np.pi/N\n",
        "  listsides = [i*dTheta for i in range(0,N+1)]\n",
        "  listX = [np.cos(i) for i in listsides]\n",
        "  listY = [np.sin(i) for i in listsides]\n",
        "  distance = []\n",
        "  for i in range(0,N):\n",
        "    distanceX = listX[i] - listX[i+1]\n",
        "    distanceY = listY[i] - listY[i+1]\n",
        "    distance.append((distanceX**2 + distanceY**2)**0.5)\n",
        "  perimeter = np.sum(distance)\n",
        "  return perimeter/2\n",
        "\n",
        "plt.show()\n",
        "pi_value = []\n",
        "index = []\n",
        "for i in range(1,100):\n",
        "  pi_value.append(DrawPolygon(i))\n",
        "  index.append(i)\n",
        "plt.plot(index,pi_value)\n",
        "plt.axhline(np.pi,linestyle='--')\n",
        "plt.show"
      ]
    },
    {
      "cell_type": "markdown",
      "metadata": {
        "id": "YgSlakUlAfG8"
      },
      "source": [
        "<img src=\"https://courses.physics.illinois.edu/phys246/fa2022/img/AnsEnd.svg\" width=200 align=left></img><br>"
      ]
    },
    {
      "cell_type": "markdown",
      "metadata": {
        "id": "MhbsYFLNAfG8"
      },
      "source": [
        "### d.  Inscribed Polygon (EC) (Extra Credit: 5 points)"
      ]
    },
    {
      "cell_type": "markdown",
      "metadata": {
        "id": "jxzHwdc9AfG9"
      },
      "source": [
        "Do the same thing you did earlier but use both the inscribed and circumscribed polygons.  Show that you approach $\\pi$ from above and below. "
      ]
    },
    {
      "cell_type": "markdown",
      "metadata": {
        "id": "1M8_ThhLAfG9"
      },
      "source": [
        "<img src=\"https://courses.physics.illinois.edu/phys246/fa2022/img/AnsStart.svg\" width=200 align=left></img><br>"
      ]
    },
    {
      "cell_type": "code",
      "execution_count": null,
      "metadata": {
        "id": "FP7qjQjiAfG9"
      },
      "outputs": [],
      "source": [
        "# ANSWER HERE"
      ]
    },
    {
      "cell_type": "markdown",
      "metadata": {
        "id": "rsYw9jL4AfG9"
      },
      "source": [
        "<img src=\"https://courses.physics.illinois.edu/phys246/fa2022/img/AnsEnd.svg\" width=200 align=left></img><br>"
      ]
    },
    {
      "cell_type": "markdown",
      "metadata": {
        "id": "6nJS3Wm4AfG9"
      },
      "source": [
        "## Exercise 3: Throwing Darts"
      ]
    },
    {
      "cell_type": "markdown",
      "metadata": {
        "id": "nM4zfHKwAfG9"
      },
      "source": [
        "* **List of collaborators:**\n",
        "\n",
        "* **References you used in developing your code:**"
      ]
    },
    {
      "cell_type": "markdown",
      "metadata": {
        "id": "yKXmnR0FAfG-"
      },
      "source": [
        "In this exercise, we will compute $\\pi$ by (*in silico*[<sup>2</sup>](#fn2)) throwing darts at a board.  To do this,  we are going to need to use random numbers."
      ]
    },
    {
      "cell_type": "markdown",
      "metadata": {
        "id": "0O_jdQXDAfG-"
      },
      "source": [
        "You can read about Python’s (pseudo)random number generating functions here: https://docs.python.org/3/library/random.html. They live in the `random` library, and can be imported using `import random`. Here’s a snippet of code that generates a sequence of random numbers between -1 and 1.\n"
      ]
    },
    {
      "cell_type": "code",
      "execution_count": 27,
      "metadata": {
        "id": "NrPlx5r-AfG-",
        "colab": {
          "base_uri": "https://localhost:8080/"
        },
        "outputId": "5790afbd-00d0-497d-8c5d-de61d257d307"
      },
      "outputs": [
        {
          "output_type": "stream",
          "name": "stdout",
          "text": [
            "-0.8840042696185342\n",
            "0.8484187105343295\n",
            "-0.9586291925906325\n",
            "0.9090228979494392\n",
            "0.04293000031378469\n",
            "0.34396730817722365\n",
            "-0.3795990317525286\n",
            "-0.46396078307121735\n",
            "0.7621508070976002\n"
          ]
        }
      ],
      "source": [
        "import random\n",
        "for i in range(1,10):\n",
        "    print(random.uniform(-1,1))"
      ]
    },
    {
      "cell_type": "markdown",
      "metadata": {
        "id": "SsOYZiyaAfG-"
      },
      "source": [
        "A couple of fine points: `uniform(-1,1)` generates random numbers with a uniform distribution in the semi-open range `[-1.0,1.0)`;  the `range` specification in the for loop requires i to be greater than or equal to 1, but less than 10. Only nine random numbers are printed."
      ]
    },
    {
      "cell_type": "markdown",
      "metadata": {
        "id": "4SNuFRxDAfG-"
      },
      "source": [
        "### a. Darts at a board"
      ]
    },
    {
      "cell_type": "markdown",
      "metadata": {
        "id": "a8WMNR-sAfG-"
      },
      "source": [
        "🦉Draw a a $1 \\times 1$ square with a circle of radius 0.5 within it. Then pick 25 random points $(x,y)$ in the square (do this by picking two random numbers each between -1 and 1). Plot them within the square (`plt.plot(x,y,'.',color='red'`).   Recall that the area of a circle is $\\pi r^2$, and that if you inscribe a circle of radius 0.5 inside a square of side length 1, the ratio of the areas of the circle and square will be $\\pi$/4.\n",
        "$$\\frac{\\pi r^2}{4 r^2}= \\frac{\\pi}{4}$$\n",
        "\n",
        "Because the dart is likely to hit any place on the square, the fraction of dots within the circle is the ratio of the area between the circle and the square.\n",
        "\n",
        "\n",
        "I removed all the axis to make them look prettier by doing:\n",
        "```python\n",
        "plt.xlim(-1,1)\n",
        "plt.ylim(-1,1)\n",
        "plt.gca().get_xaxis().set_visible(False)\n",
        "plt.gca().get_yaxis().set_visible(False)\n",
        "plt.show()\n",
        "```\n"
      ]
    },
    {
      "cell_type": "markdown",
      "metadata": {
        "id": "S1VmZUGcAfG_"
      },
      "source": [
        "*Code below for circle and random points in a square.*\n",
        "\n",
        "<img src=\"https://courses.physics.illinois.edu/phys246/fa2022/img/AnsStart.svg\" width=200 align=left></img><br>"
      ]
    },
    {
      "cell_type": "code",
      "execution_count": 128,
      "metadata": {
        "id": "wolO6SOAAfG_",
        "colab": {
          "base_uri": "https://localhost:8080/",
          "height": 252
        },
        "outputId": "7d798251-4fdb-42dd-aab8-89220473455f"
      },
      "outputs": [
        {
          "output_type": "display_data",
          "data": {
            "text/plain": [
              "<Figure size 432x288 with 1 Axes>"
            ],
            "image/png": "[encoded data removed]"
          },
          "metadata": {
            "needs_background": "light"
          }
        }
      ],
      "source": [
        "# ANSWER HERE\n",
        "import random\n",
        "plt.xlim(-1,1)\n",
        "plt.ylim(-1,1)\n",
        "plt.gca().get_xaxis().set_visible(False)\n",
        "plt.gca().get_yaxis().set_visible(False)\n",
        "listX = []\n",
        "listY = []\n",
        "i = 0\n",
        "while i < 2*np.pi:\n",
        "  listX.append(0.5*np.cos(i))\n",
        "  listY.append(0.5*np.sin(i))\n",
        "  i += 0.0001\n",
        "plt.plot(listX,listY)\n",
        "x = []\n",
        "y = []\n",
        "n = 25\n",
        "for i in range(1,n):\n",
        "    x.append(random.uniform(-1,1))\n",
        "    y.append(random.uniform(-1,1))\n",
        "plt.plot(x,y,'.',color='red')\n",
        "plt.show()"
      ]
    },
    {
      "cell_type": "markdown",
      "metadata": {
        "id": "3EYaOYNuAfG_"
      },
      "source": [
        "<img src=\"https://courses.physics.illinois.edu/phys246/fa2022/img/AnsEnd.svg\" width=200 align=left></img><br>"
      ]
    },
    {
      "cell_type": "markdown",
      "metadata": {
        "id": "W92C1ddvAfG_"
      },
      "source": [
        "### b. $\\pi$ from Darts"
      ]
    },
    {
      "cell_type": "markdown",
      "metadata": {
        "id": "bIcs7qCxAfG_"
      },
      "source": [
        "🦉Within your loops, measure the fraction of dots that actually end up in your circle.  Measure $\\pi$ using this number both with 25 dots as well as 2500 dots (for this latter number you might want to turn off the plotting or it will be really slow). "
      ]
    },
    {
      "cell_type": "markdown",
      "metadata": {
        "id": "7ZxjQ2czAfG_"
      },
      "source": [
        "*Code for fraction of points which are in the circle.  This should be $\\pi/4$ so multiply by 4 to get $\\pi$*\n",
        "\n",
        "<img src=\"https://courses.physics.illinois.edu/phys246/fa2022/img/AnsStart.svg\" width=200 align=left></img><br>"
      ]
    },
    {
      "cell_type": "code",
      "execution_count": 139,
      "metadata": {
        "id": "Fu6MEo82AfHA",
        "colab": {
          "base_uri": "https://localhost:8080/"
        },
        "outputId": "d2e4430b-40e3-4bf6-fa63-f84b9a9832e5"
      },
      "outputs": [
        {
          "output_type": "stream",
          "name": "stdout",
          "text": [
            "0.7328\n"
          ]
        }
      ],
      "source": [
        "# ANSWER HERE\n",
        "def value_fraction(n):\n",
        "  import random\n",
        "  listX = []\n",
        "  listY = []\n",
        "  i = 0\n",
        "  while i < 2*np.pi:\n",
        "    listX.append(0.5*np.cos(i))\n",
        "    listY.append(0.5*np.sin(i))\n",
        "    i += 0.0001\n",
        "  x = []\n",
        "  y = []\n",
        "  for i in range(1,n):\n",
        "      x.append(random.uniform(-1,1))\n",
        "      y.append(random.uniform(-1,1))\n",
        "  count = 0\n",
        "  for i in range(0,n-1):\n",
        "    if (x[i]**2 + y[i]**2) <= 0.5**2:\n",
        "      count += 1\n",
        "  fraction = count/n\n",
        "  pi_value = fraction*4\n",
        "  return pi_value\n",
        "print(value_fraction(2500))"
      ]
    },
    {
      "cell_type": "markdown",
      "metadata": {
        "id": "H3CSA4T7AfHA"
      },
      "source": [
        "<img src=\"https://courses.physics.illinois.edu/phys246/fa2022/img/AnsEnd.svg\" width=200 align=left></img><br>"
      ]
    },
    {
      "cell_type": "markdown",
      "metadata": {
        "id": "dq2yQcDsAfHA"
      },
      "source": [
        "### c. Repeated Experiments"
      ]
    },
    {
      "cell_type": "markdown",
      "metadata": {
        "id": "cgKg26FtAfHA"
      },
      "source": [
        "🦉Now wrap your code in an additional outer loop which runs 1000 times. You now have an outer loops (1000 times) and inner loop (2500 times).   You are now estimating $\\pi$ 1000 times.  \n",
        "\n",
        "Store each of the estimates in an array (or list) and generate a histogram (bar graph) of the values in the array using `plt.hist`. If my estimates were stored in a list named `storedVals` I can generate a histogram by\n",
        "```python\n",
        "plt.hist(storedVals)\n",
        "#...add axis labels, etc here...\n",
        "plt.show()\n",
        "```\n",
        "\n",
        "Finally increase the number of iterations in your inner loop from 2,500 to 10,000. How does the RMS width of your histogram change?  \n",
        "(You should find that it is about half as big. It is very common for statistical precision to improve proportional to the square root of the number of samples in your average.)\n"
      ]
    },
    {
      "cell_type": "markdown",
      "metadata": {
        "id": "MNzru1ElAfHA"
      },
      "source": [
        "*Run your function to get $\\pi$ many times and make a histogram of your answers below.*\n",
        "\n",
        "<img src=\"https://courses.physics.illinois.edu/phys246/fa2022/img/AnsStart.svg\" width=200 align=left></img><br>"
      ]
    },
    {
      "cell_type": "code",
      "execution_count": 141,
      "metadata": {
        "id": "l8LcEHt2AfHA",
        "colab": {
          "base_uri": "https://localhost:8080/",
          "height": 269
        },
        "outputId": "9317a279-97e9-49b5-f8a0-0b6c1ed0bd1e"
      },
      "outputs": [
        {
          "output_type": "display_data",
          "data": {
            "text/plain": [
              "<Figure size 432x288 with 1 Axes>"
            ],
            "image/png": "[encoded data removed]"
          },
          "metadata": {
            "needs_background": "light"
          }
        }
      ],
      "source": [
        "# ANSWER HERE\n",
        "storedVals = []\n",
        "for i in range(0,1000):\n",
        "  storedVals.append(value_fraction(2500))\n",
        "plt.hist(storedVals)\n",
        "plt.show()"
      ]
    },
    {
      "cell_type": "markdown",
      "metadata": {
        "id": "cgYhiMlfAfHB"
      },
      "source": [
        "<img src=\"https://courses.physics.illinois.edu/phys246/fa2022/img/AnsEnd.svg\" width=200 align=left></img><br>"
      ]
    },
    {
      "cell_type": "markdown",
      "metadata": {
        "id": "E4AAybCZAfHB"
      },
      "source": [
        "## Exercise 4: Buffon's Needle (EC) (Extra Credit: 10 points)"
      ]
    },
    {
      "cell_type": "markdown",
      "metadata": {
        "id": "H-ffiFNmAfHB"
      },
      "source": [
        "* **List of collaborators:**\n",
        "\n",
        "* **References you used in developing your code:**"
      ]
    },
    {
      "cell_type": "markdown",
      "metadata": {
        "id": "lyr6cjBdAfHB"
      },
      "source": [
        "Read about Buffon's needle and implement a simulation of it to get $\\pi$."
      ]
    },
    {
      "cell_type": "markdown",
      "metadata": {
        "id": "yYota-wRAfHB"
      },
      "source": [
        "**Acknowledgements:** \n",
        "* Ex. 1,3 originally developed by George Gollin\n",
        "* Ex. 2 developed by Bryan Clark\n",
        "\n",
        "© Copyright 2022"
      ]
    },
    {
      "cell_type": "markdown",
      "metadata": {
        "id": "fPJTPSAgAfHB"
      },
      "source": [
        "<span id=“fn1”><sup>1</sup>http://mathworld.wolfram.com/PiFormulas.html </span>\n",
        "\n",
        "<span id=“fn2”><sup>2</sup>performed by computer simulation; by silicon</span>"
      ]
    }
  ],
  "metadata": {
    "kernelspec": {
      "display_name": "Python 3.9.12 64-bit",
      "language": "python",
      "name": "python3"
    },
    "language_info": {
      "codemirror_mode": {
        "name": "ipython",
        "version": 3
      },
      "file_extension": ".py",
      "mimetype": "text/x-python",
      "name": "python",
      "nbconvert_exporter": "python",
      "pygments_lexer": "ipython3",
      "version": "3.9.12"
    },
    "toc": {
      "nav_menu": {},
      "number_sections": true,
      "sideBar": true,
      "skip_h1_title": true,
      "toc_cell": false,
      "toc_position": {},
      "toc_section_display": "block",
      "toc_window_display": false
    },
    "varInspector": {
      "cols": {
        "lenName": 16,
        "lenType": 16,
        "lenVar": 40
      },
      "kernels_config": {
        "python": {
          "delete_cmd_postfix": "",
          "delete_cmd_prefix": "del ",
          "library": "var_list.py",
          "varRefreshCmd": "print(var_dic_list())"
        },
        "r": {
          "delete_cmd_postfix": ") ",
          "delete_cmd_prefix": "rm(",
          "library": "var_list.r",
          "varRefreshCmd": "cat(var_dic_list()) "
        }
      },
      "types_to_exclude": [
        "module",
        "function",
        "builtin_function_or_method",
        "instance",
        "_Feature"
      ],
      "window_display": false
    },
    "vscode": {
      "interpreter": {
        "hash": "aee8b7b246df8f9039afb4144a1f6fd8d2ca17a180786b69acc140d282b71a49"
      }
    },
    "colab": {
      "provenance": [],
      "collapsed_sections": [
        "MhbsYFLNAfG8"
      ],
      "include_colab_link": true
    }
  },
  "nbformat": 4,
  "nbformat_minor": 0
}